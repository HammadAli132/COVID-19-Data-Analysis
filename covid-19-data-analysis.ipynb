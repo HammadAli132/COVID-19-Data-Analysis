{
 "cells": [
  {
   "cell_type": "markdown",
   "id": "9cd4174e",
   "metadata": {},
   "source": [
    "# Importing Libraries"
   ]
  },
  {
   "cell_type": "code",
   "execution_count": 1,
   "id": "537d2e6a",
   "metadata": {},
   "outputs": [],
   "source": [
    "import pandas as pd\n",
    "import numpy as np\n",
    "import matplotlib.pyplot as plt"
   ]
  },
  {
   "cell_type": "markdown",
   "id": "9b538de2",
   "metadata": {},
   "source": [
    "# Data Cleaning & Preprocessing"
   ]
  },
  {
   "cell_type": "code",
   "execution_count": null,
   "id": "64bc18cf",
   "metadata": {},
   "outputs": [],
   "source": [
    "# these are the necessary series that are needed for this project\n",
    "necessary_series = [\"country\", \"date\", \"total_cases\", \"new_cases\", \"total_deaths\", \"new_deaths\", \"total_vaccinations\", \"new_vaccinations\", \"hosp_patients\", \"continent\", \"population\"]\n",
    "\n",
    "# reading the data CSV file\n",
    "df_main = pd.read_csv(\"./compact.csv\", usecols=necessary_series)"
   ]
  },
  {
   "cell_type": "code",
   "execution_count": null,
   "id": "83d7143d",
   "metadata": {},
   "outputs": [],
   "source": [
    "# finding the null values in dataset\n",
    "df_main.isnull().sum()\n",
    "\n",
    "# checking the datatypes of the series\n",
    "df_main.dtypes\n",
    "\n",
    "# list of numeric columns which have null values\n",
    "null_value_cols = [\"total_cases\", \"new_cases\", \"total_deaths\", \"new_deaths\", \"hosp_patients\", \"total_vaccinations\", \"new_vaccinations\", \"population\"]\n",
    "\n",
    "# creating a dictionary for column name: value pairs\n",
    "null_value_dict = {column: 0 for column in null_value_cols}\n",
    "\n",
    "# filling the null values in numeric columns with zeroes\n",
    "df_primary = df_main.fillna(null_value_dict)\n",
    "\n",
    "# now, checking why continent is null\n",
    "df_primary.loc[df_primary[\"continent\"].isnull()]\n",
    "\n",
    "# so clearly, rows which have country name that of a continent and an invalid country name have continent column = NaN\n",
    "# dropping those rows which have continent = NaN\n",
    "df_primary.dropna(subset=[\"continent\"], axis=0, inplace=True)\n",
    "\n",
    "# changing the datatype of date column to datetime\n",
    "df_primary[\"date\"] = df_primary[\"date\"].astype(dtype=\"datetime64[s]\")"
   ]
  },
  {
   "cell_type": "markdown",
   "id": "c7e91c5c",
   "metadata": {},
   "source": [
    "# Filtering & Grouping Data"
   ]
  },
  {
   "cell_type": "code",
   "execution_count": null,
   "id": "5f731763",
   "metadata": {},
   "outputs": [],
   "source": [
    "# creating two extra series, one for month and one year\n",
    "months = df_primary[\"date\"].dt.month_name()\n",
    "years = df_primary[\"date\"].dt.year\n",
    "df_primary[\"month\"] = months\n",
    "df_primary[\"year\"] = years\n",
    "\n",
    "# grouping the data into useful groups\n",
    "df_countries = df_primary.groupby(\"country\")\n",
    "df_continents = df_primary.groupby(\"continent\")\n",
    "df_timeline = df_primary.groupby([\"month\", \"year\"])"
   ]
  }
 ],
 "metadata": {
  "kernelspec": {
   "display_name": "base",
   "language": "python",
   "name": "python3"
  },
  "language_info": {
   "codemirror_mode": {
    "name": "ipython",
    "version": 3
   },
   "file_extension": ".py",
   "mimetype": "text/x-python",
   "name": "python",
   "nbconvert_exporter": "python",
   "pygments_lexer": "ipython3",
   "version": "3.12.7"
  }
 },
 "nbformat": 4,
 "nbformat_minor": 5
}
